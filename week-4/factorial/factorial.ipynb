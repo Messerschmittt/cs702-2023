{
 "cells": [
  {
   "cell_type": "markdown",
   "source": [
    "# Factorial experiment without interaction"
   ],
   "metadata": {
    "collapsed": false
   }
  },
  {
   "cell_type": "code",
   "execution_count": 1,
   "metadata": {
    "collapsed": true
   },
   "outputs": [],
   "source": [
    "import jax.numpy as jnp\n",
    "import numpyro\n",
    "import numpyro.distributions as dist\n",
    "\n",
    "from jax import random\n",
    "from numpyro.infer import MCMC, NUTS, Predictive\n",
    "\n",
    "# Mock data\n",
    "layout = jnp.hstack([jnp.repeat(0, 100), jnp.repeat(0, 100), jnp.repeat(1, 100), jnp.repeat(1, 100)])\n",
    "background = jnp.hstack([jnp.repeat(0, 100), jnp.repeat(1, 100), jnp.repeat(0, 100), jnp.repeat(1, 100)])\n",
    "success = jnp.repeat(0, 400)\n",
    "success = success.at[0:5].set(1)\n",
    "success = success.at[100:108].set(1)\n",
    "success = success.at[200:205].set(1)\n",
    "success = success.at[300:312].set(1)"
   ]
  },
  {
   "cell_type": "code",
   "execution_count": 2,
   "outputs": [],
   "source": [
    "invlogit = lambda x: 1 / (1 + jnp.exp(-x))\n",
    "\n",
    "def model(f1, f2, obs=None):\n",
    "    b0 = numpyro.sample('b0', dist.Normal(0, 1))\n",
    "    b1 = numpyro.sample('b1', dist.Normal(0, 1).expand((2, )))\n",
    "    b2 = numpyro.sample('b2', dist.Normal(0, 1).expand((2, )))\n",
    "\n",
    "    y = numpyro.deterministic('y', b0 + b1[f1] + b2[f2])\n",
    "    theta = numpyro.deterministic('theta', invlogit(y))\n",
    "\n",
    "    o = numpyro.sample('o', dist.Bernoulli(theta), obs=obs)"
   ],
   "metadata": {
    "collapsed": false
   }
  },
  {
   "cell_type": "code",
   "execution_count": 3,
   "outputs": [
    {
     "name": "stderr",
     "output_type": "stream",
     "text": [
      "sample: 100%|██████████| 2000/2000 [00:02<00:00, 997.08it/s, 31 steps of size 1.80e-01. acc. prob=0.93] \n"
     ]
    },
    {
     "name": "stdout",
     "output_type": "stream",
     "text": [
      "\n",
      "                mean       std    median      5.0%     95.0%     n_eff     r_hat\n",
      "        b0     -1.27      0.67     -1.28     -2.35     -0.11    387.94      1.00\n",
      "     b1[0]     -0.72      0.61     -0.73     -1.68      0.30    395.57      1.00\n",
      "     b1[1]     -0.45      0.60     -0.49     -1.43      0.54    380.71      1.00\n",
      "     b2[0]     -1.06      0.67     -1.05     -2.09      0.10    371.31      1.00\n",
      "     b2[1]     -0.37      0.65     -0.39     -1.33      0.80    402.44      1.00\n",
      "\n",
      "Number of divergences: 0\n"
     ]
    }
   ],
   "source": [
    "mcmc = MCMC(NUTS(model=model), num_warmup=1000, num_samples=1000)\n",
    "mcmc.run(random.PRNGKey(0), f1=layout, f2=background, obs=success)\n",
    "mcmc.print_summary()\n",
    "\n",
    "#            mean       std    median      5.0%     95.0%     n_eff     r_hat\n",
    "#    b0     -1.27      0.67     -1.28     -2.35     -0.11    387.94      1.00\n",
    "# b1[0]     -0.72      0.61     -0.73     -1.68      0.30    395.57      1.00\n",
    "# b1[1]     -0.45      0.60     -0.49     -1.43      0.54    380.71      1.00\n",
    "# b2[0]     -1.06      0.67     -1.05     -2.09      0.10    371.31      1.00\n",
    "# b2[1]     -0.37      0.65     -0.39     -1.33      0.80    402.44      1.00"
   ],
   "metadata": {
    "collapsed": false
   }
  },
  {
   "cell_type": "code",
   "execution_count": 4,
   "outputs": [
    {
     "data": {
      "text/plain": "Array(0.04790768, dtype=float32)"
     },
     "execution_count": 4,
     "metadata": {},
     "output_type": "execute_result"
    }
   ],
   "source": [
    "predictive = Predictive(model, mcmc.get_samples(), return_sites=['theta'])\n",
    "pred = predictive(random.PRNGKey(1), f1=jnp.array([0]), f2=jnp.array([0]))\n",
    "jnp.mean(pred['theta'].T)\n",
    "# Array(0.04790768, dtype=float32)"
   ],
   "metadata": {
    "collapsed": false
   }
  },
  {
   "cell_type": "code",
   "execution_count": 5,
   "outputs": [
    {
     "data": {
      "text/plain": "<Figure size 640x480 with 1 Axes>",
      "image/png": "[encoded data removed]"
     },
     "metadata": {},
     "output_type": "display_data"
    }
   ],
   "source": [
    "import matplotlib.pyplot as plt\n",
    "\n",
    "plt.hist(pred['theta'].T)\n",
    "plt.xlabel(r\"$\\theta_{00}$\")\n",
    "plt.xlim([0, 1])\n",
    "plt.show()"
   ],
   "metadata": {
    "collapsed": false
   }
  },
  {
   "cell_type": "code",
   "execution_count": 6,
   "outputs": [],
   "source": [
    "# (grid, white) = (0, 0)\n",
    "# (list, green) = (1, 1)\n",
    "theta_00 = predictive(random.PRNGKey(1), f1=jnp.array([0]), f2=jnp.array([0]))['theta'].T\n",
    "theta_11 = predictive(random.PRNGKey(1), f1=jnp.array([1]), f2=jnp.array([1]))['theta'].T"
   ],
   "metadata": {
    "collapsed": false
   }
  },
  {
   "cell_type": "code",
   "execution_count": 7,
   "outputs": [
    {
     "data": {
      "text/plain": "<Figure size 640x480 with 1 Axes>",
      "image/png": "[encoded data removed]"
     },
     "metadata": {},
     "output_type": "display_data"
    }
   ],
   "source": [
    "plt.hist(theta_00 - theta_11)\n",
    "plt.xlabel(r\"$\\theta_{00} - \\theta_{11}$\")\n",
    "plt.show()"
   ],
   "metadata": {
    "collapsed": false
   }
  },
  {
   "cell_type": "markdown",
   "source": [
    "# Factorial experiment with interaction"
   ],
   "metadata": {
    "collapsed": false
   }
  },
  {
   "cell_type": "code",
   "execution_count": 9,
   "outputs": [],
   "source": [
    "invlogit = lambda x: 1 / (1 + jnp.exp(-x))\n",
    "\n",
    "def model(f1, f2, obs=None):\n",
    "    b0 = numpyro.sample('b0', dist.Normal(0, 1))\n",
    "    b1 = numpyro.sample('b1', dist.Normal(0, 1).expand((2, )))\n",
    "    b2 = numpyro.sample('b2', dist.Normal(0, 1).expand((2, )))\n",
    "    b12 = numpyro.sample('b12', dist.Normal(0, 1).expand((2, 2,)))\n",
    "\n",
    "    y = numpyro.deterministic('y', b0 + b1[f1] + b2[f2] + b12[f1, f2])\n",
    "    theta = numpyro.deterministic('theta', invlogit(y))\n",
    "\n",
    "    o = numpyro.sample('o', dist.Bernoulli(theta), obs=obs)"
   ],
   "metadata": {
    "collapsed": false
   }
  },
  {
   "cell_type": "code",
   "execution_count": 10,
   "outputs": [
    {
     "name": "stderr",
     "output_type": "stream",
     "text": [
      "sample: 100%|██████████| 2000/2000 [00:02<00:00, 811.26it/s, 31 steps of size 1.34e-01. acc. prob=0.95] \n"
     ]
    },
    {
     "name": "stdout",
     "output_type": "stream",
     "text": [
      "\n",
      "                mean       std    median      5.0%     95.0%     n_eff     r_hat\n",
      "        b0     -1.16      0.76     -1.16     -2.28      0.19    826.89      1.00\n",
      "     b1[0]     -0.67      0.76     -0.65     -1.83      0.62    742.92      1.00\n",
      "     b1[1]     -0.52      0.75     -0.53     -1.68      0.69    683.44      1.00\n",
      "  b12[0,0]     -0.35      0.79     -0.36     -1.56      1.05    697.73      1.00\n",
      "  b12[0,1]     -0.27      0.78     -0.25     -1.46      1.02    829.00      1.00\n",
      "  b12[1,0]     -0.48      0.81     -0.48     -1.82      0.84    777.18      1.00\n",
      "  b12[1,1]      0.00      0.79     -0.04     -1.22      1.35    673.71      1.00\n",
      "     b2[0]     -0.78      0.75     -0.79     -1.93      0.53    680.60      1.00\n",
      "     b2[1]     -0.37      0.74     -0.39     -1.54      0.93    852.62      1.00\n",
      "\n",
      "Number of divergences: 0\n"
     ]
    }
   ],
   "source": [
    "mcmc = MCMC(NUTS(model=model), num_warmup=1000, num_samples=1000)\n",
    "mcmc.run(random.PRNGKey(0), f1=layout, f2=background, obs=success)\n",
    "mcmc.print_summary()\n",
    "\n",
    "#               mean       std    median      5.0%     95.0%     n_eff     r_hat\n",
    "#       b0     -1.16      0.76     -1.16     -2.28      0.19    826.89      1.00\n",
    "#    b1[0]     -0.67      0.76     -0.65     -1.83      0.62    742.92      1.00\n",
    "#    b1[1]     -0.52      0.75     -0.53     -1.68      0.69    683.44      1.00\n",
    "# b12[0,0]     -0.35      0.79     -0.36     -1.56      1.05    697.73      1.00\n",
    "# b12[0,1]     -0.27      0.78     -0.25     -1.46      1.02    829.00      1.00\n",
    "# b12[1,0]     -0.48      0.81     -0.48     -1.82      0.84    777.18      1.00\n",
    "# b12[1,1]      0.00      0.79     -0.04     -1.22      1.35    673.71      1.00\n",
    "#    b2[0]     -0.78      0.75     -0.79     -1.93      0.53    680.60      1.00\n",
    "#    b2[1]     -0.37      0.74     -0.39     -1.54      0.93    852.62      1.00"
   ],
   "metadata": {
    "collapsed": false
   }
  },
  {
   "cell_type": "code",
   "execution_count": null,
   "outputs": [],
   "source": [],
   "metadata": {
    "collapsed": false
   }
  }
 ],
 "metadata": {
  "kernelspec": {
   "display_name": "Python 3",
   "language": "python",
   "name": "python3"
  },
  "language_info": {
   "codemirror_mode": {
    "name": "ipython",
    "version": 2
   },
   "file_extension": ".py",
   "mimetype": "text/x-python",
   "name": "python",
   "nbconvert_exporter": "python",
   "pygments_lexer": "ipython2",
   "version": "2.7.6"
  }
 },
 "nbformat": 4,
 "nbformat_minor": 0
}
