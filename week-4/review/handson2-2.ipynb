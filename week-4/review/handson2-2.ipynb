{
 "cells": [
  {
   "cell_type": "code",
   "execution_count": 2,
   "metadata": {
    "pycharm": {
     "is_executing": true
    }
   },
   "outputs": [
    {
     "data": {
      "text/plain": [
       "[2.3762975,\n",
       " 2.7325578,\n",
       " 1.3750422,\n",
       " 0.9992071,\n",
       " 1.9519926,\n",
       " 6.251218,\n",
       " 0.84728867,\n",
       " 6.076127,\n",
       " 6.0899625,\n",
       " 2.6973338,\n",
       " 3.7665267,\n",
       " 1.572763,\n",
       " 6.4568233,\n",
       " 1.369886,\n",
       " 6.5856237,\n",
       " 1.5776805,\n",
       " 7.356719,\n",
       " 7.4597907,\n",
       " 3.3213968,\n",
       " 4.0831566]"
      ]
     },
     "execution_count": 2,
     "metadata": {},
     "output_type": "execute_result"
    }
   ],
   "source": [
    "import arviz as az\n",
    "import jax.numpy as jnp\n",
    "import matplotlib.pyplot as plt\n",
    "import numpy as np\n",
    "import numpyro\n",
    "import numpyro.distributions as dist\n",
    "from jax import random\n",
    "from numpyro.infer import MCMC, NUTS\n",
    "\n",
    "# Kotaro used the following to generation the mock data\n",
    "N = 20\n",
    "for i in range(5):\n",
    "    for j in range(2):\n",
    "        _shape, _rate = random.random(), random.random()\n",
    "\n",
    "        concentration = _shape * jnp.ones(N)\n",
    "        rate = _rate * jnp.ones(N)\n",
    "        s = dist.Gamma(concentration=concentration, rate=rate).sample(random.PRNGKey(0))\n",
    "\n",
    "\n",
    "\n",
    "# list(np.array(s))"
   ]
  },
  {
   "cell_type": "code",
   "execution_count": 3,
   "metadata": {},
   "outputs": [],
   "source": [
    "# Data that I generated using an arbitrary pair of (shape, rate) parameters.\n",
    "d = [2.3762975,\n",
    "     2.7325578,\n",
    "     1.3750422,\n",
    "     0.9992071,\n",
    "     1.9519926,\n",
    "     6.251218,\n",
    "     0.84728867,\n",
    "     6.076127,\n",
    "     6.0899625,\n",
    "     2.6973338,\n",
    "     3.7665267,\n",
    "     1.572763,\n",
    "     6.4568233,\n",
    "     1.369886,\n",
    "     6.5856237,\n",
    "     1.5776805,\n",
    "     7.356719,\n",
    "     7.4597907,\n",
    "     3.3213968,\n",
    "     4.0831566]\n",
    "data = jnp.array(d)\n"
   ]
  },
  {
   "cell_type": "code",
   "execution_count": 4,
   "metadata": {},
   "outputs": [
    {
     "name": "stderr",
     "output_type": "stream",
     "text": [
      "sample: 100%|██████████| 2000/2000 [00:01<00:00, 1234.43it/s, 3 steps of size 3.19e-01. acc. prob=0.94] \n"
     ]
    },
    {
     "name": "stdout",
     "output_type": "stream",
     "text": [
      "\n",
      "                mean       std    median      5.0%     95.0%     n_eff     r_hat\n",
      "     alpha      2.18      0.55      2.14      1.23      3.00    283.12      1.00\n",
      "      beta      0.59      0.16      0.58      0.30      0.83    279.37      1.00\n",
      "\n",
      "Number of divergences: 0\n"
     ]
    }
   ],
   "source": [
    "# Write the probabilistic model to estimate the shape and rate parameters.\n",
    "def gamma_model(data):\n",
    "    alpha = numpyro.sample(\"alpha\", dist.Exponential(1.0))\n",
    "    beta = numpyro.sample(\"beta\", dist.Exponential(1.0))\n",
    "    g = numpyro.sample(\"g\", dist.Gamma(alpha, beta), obs=data)\n",
    "\n",
    "mcmc = MCMC(NUTS(model=gamma_model), num_warmup=1000, num_samples=1000)\n",
    "mcmc.run(random.PRNGKey(0), data=s)\n",
    "mcmc.print_summary()\n",
    "#                mean       std    median      5.0%     95.0%     n_eff     r_hat\n",
    "#     alpha      2.18      0.55      2.14      1.23      3.00    283.12      1.00\n",
    "#      beta      0.59      0.16      0.58      0.30      0.83    279.37      1.00"
   ]
  },
  {
   "cell_type": "code",
   "execution_count": null,
   "metadata": {},
   "outputs": [],
   "source": [
    "import csv\n",
    "file = open('workload.csv')\n",
    "csvreader = csv.reader(file)\n",
    "\n",
    "header = []\n",
    "header = next(csvreader)\n",
    "rows = []\n",
    "for row in csvreader:\n",
    "  rows.append(row)\n",
    "file.close()\n",
    "\n",
    "data_ = []\n",
    "for i in range(2):\n",
    "  data_list = []\n",
    "  for j in rows:\n",
    "    if int(j[2]) == i:\n",
    "      data_list.append(float(j[1]))\n",
    "  data_.append(data_list)\n",
    "\n",
    "for i in range(2):\n",
    "\n",
    "\n",
    "  d = data_[i]\n",
    "  data = jnp.array(d)\n",
    "\n",
    "  # Write the probabilistic model to estimate the shape and rate parameters.\n",
    "  def gamma_model(data):\n",
    "      alpha = numpyro.sample(\"alpha\", dist.Exponential(1.0))\n",
    "      beta = numpyro.sample(\"beta\", dist.Exponential(1.0))\n",
    "      g = numpyro.sample(\"g\", dist.Gamma(alpha, beta), obs=data)\n",
    "\n",
    "  mcmc = MCMC(NUTS(model=gamma_model), num_warmup=1000, num_samples=10000)\n",
    "  mcmc.run(random.PRNGKey(0), data=data)\n",
    "  mcmc.print_summary()\n",
    "  "
   ]
  },
  {
   "cell_type": "code",
   "execution_count": null,
   "metadata": {},
   "outputs": [],
   "source": []
  },
  {
   "cell_type": "code",
   "execution_count": null,
   "metadata": {},
   "outputs": [],
   "source": [
    "import pyomo.environ as pyo\n",
    "\n",
    "m = pyo.ConcreteModel('example')\n",
    "m.I = pyo.Set(initialize=list(range(len(data))))\n",
    "m.A = RangeSet(0, len(data) -1)\n",
    "m.x = pyo.Var(m.I,m.I, domain=pyo.Binary)\n",
    "m.delay = pyo.Var(m.I)\n",
    "m.y=pyo.Var(m.I,m.I, domain=pyo.Binary)\n",
    "\n",
    "deadlines = [5, 20, 15, 10, 15]\n",
    "workloads = [3, 5, 5, 6, 6]\n",
    "\n",
    "def rule_one(mdl, i):\n",
    "    return mdl.x[i, i] == 1\n",
    "\n",
    "m.budget = Constraint(m.A, rule=rule_one)\n",
    "\n",
    "def rule_two(mdl, i):\n",
    "    return mdl.delay[i] >= 0 \n",
    "\n",
    "m.two = Constraint(m.A, rule=rule_two)\n",
    "\n",
    "def rule_three(mdl, i):\n",
    "    return mdl.delay[i] >= sum(mdl.x[j,i]*workloads[j] for j in range(len(data))) - deadlines[i]\n",
    "\n",
    "m.three = Constraint(m.A, rule=rule_three)\n",
    "\n",
    "def rule_four(mdl, i, k):\n",
    "  if i == k:\n",
    "    return mdl.x[i,i] >= 0\n",
    "  else:\n",
    "    return sum(mdl.x[j,i]*workloads[j] for j in range(len(data))) - sum(mdl.x[j,k]*workloads[j] for j in range(len(data))) - workloads[k] <= (1 - mdl.x[i,k]) * 1000\n",
    "\n",
    "m.four = Constraint(m.A,m.A, rule=rule_four)\n",
    "\n",
    "def rule_five(mdl, i, k):\n",
    "  if i == k:\n",
    "    return mdl.x[i,i] >= 0\n",
    "  else:\n",
    "    return sum(mdl.x[j,i]*workloads[j] for j in range(len(data))) - sum(mdl.x[j,k]*workloads[j] for j in range(len(data))) >= - mdl.x[i,k] * 1000\n",
    "\n",
    "m.five = Constraint(m.A,m.A, rule=rule_five)\n",
    "\n",
    "def rule_six(mdl, i, k):\n",
    "  if i == k:\n",
    "    return mdl.x[i,i] >= 0\n",
    "  else:\n",
    "    return mdl.x[i,k] + mdl.x[k,i] == 1\n",
    "\n",
    "m.six = Constraint(m.A,m.A, rule=rule_six)\n",
    "\n",
    "# Objective function\n",
    "def objective_func(mdl):\n",
    "    return sum(mdl.delay[i] for i in range(len(data)))\n",
    "m.objective = pyo.Objective(rule=objective_func, sense=pyo.minimize)\n",
    "\n",
    "SolverFactory('cbc').solve(m).write()\n"
   ]
  }
 ],
 "metadata": {
  "kernelspec": {
   "display_name": "Python 3",
   "language": "python",
   "name": "python3"
  },
  "language_info": {
   "codemirror_mode": {
    "name": "ipython",
    "version": 3
   },
   "file_extension": ".py",
   "mimetype": "text/x-python",
   "name": "python",
   "nbconvert_exporter": "python",
   "pygments_lexer": "ipython3",
   "version": "3.7.9"
  },
  "vscode": {
   "interpreter": {
    "hash": "ec19a05e9999fabf63230b5fe1a7b3daceaf1309d81fcafce86e3c39270f8a29"
   }
  }
 },
 "nbformat": 4,
 "nbformat_minor": 1
}
