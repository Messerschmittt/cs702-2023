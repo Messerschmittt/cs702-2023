{
 "cells": [
  {
   "cell_type": "code",
   "execution_count": 2,
   "metadata": {
    "collapsed": true
   },
   "outputs": [
    {
     "data": {
      "text/plain": "[2.3762975,\n 2.7325578,\n 1.3750422,\n 0.9992071,\n 1.9519926,\n 6.251218,\n 0.84728867,\n 6.076127,\n 6.0899625,\n 2.6973338,\n 3.7665267,\n 1.572763,\n 6.4568233,\n 1.369886,\n 6.5856237,\n 1.5776805,\n 7.356719,\n 7.4597907,\n 3.3213968,\n 4.0831566]"
     },
     "execution_count": 2,
     "metadata": {},
     "output_type": "execute_result"
    }
   ],
   "source": [
    "import arviz as az\n",
    "import jax.numpy as jnp\n",
    "import matplotlib.pyplot as plt\n",
    "import numpy as np\n",
    "import numpyro\n",
    "import numpyro.distributions as dist\n",
    "from jax import random\n",
    "from numpyro.infer import MCMC, NUTS\n",
    "\n",
    "# Kotaro used the following lineData generation code\n",
    "N = 20\n",
    "_shape, _rate = 2., 0.5\n",
    "concentration = _shape * jnp.ones(N)\n",
    "rate = _rate * jnp.ones(N)\n",
    "s = dist.Gamma(concentration=concentration, rate=rate).sample(random.PRNGKey(0))\n",
    "list(np.array(s))"
   ]
  },
  {
   "cell_type": "code",
   "execution_count": 3,
   "outputs": [],
   "source": [
    "# Data that I generated using an arbitrary pair of (shape, rate) parameters.\n",
    "d = [2.3762975,\n",
    "     2.7325578,\n",
    "     1.3750422,\n",
    "     0.9992071,\n",
    "     1.9519926,\n",
    "     6.251218,\n",
    "     0.84728867,\n",
    "     6.076127,\n",
    "     6.0899625,\n",
    "     2.6973338,\n",
    "     3.7665267,\n",
    "     1.572763,\n",
    "     6.4568233,\n",
    "     1.369886,\n",
    "     6.5856237,\n",
    "     1.5776805,\n",
    "     7.356719,\n",
    "     7.4597907,\n",
    "     3.3213968,\n",
    "     4.0831566]\n",
    "data = jnp.array(d)\n"
   ],
   "metadata": {
    "collapsed": false
   }
  },
  {
   "cell_type": "code",
   "execution_count": 4,
   "outputs": [
    {
     "name": "stderr",
     "output_type": "stream",
     "text": [
      "sample: 100%|██████████| 2000/2000 [00:01<00:00, 1092.79it/s, 3 steps of size 3.19e-01. acc. prob=0.94] \n"
     ]
    },
    {
     "name": "stdout",
     "output_type": "stream",
     "text": [
      "\n",
      "                mean       std    median      5.0%     95.0%     n_eff     r_hat\n",
      "     alpha      2.18      0.55      2.14      1.23      3.00    283.12      1.00\n",
      "      beta      0.59      0.16      0.58      0.30      0.83    279.37      1.00\n",
      "\n",
      "Number of divergences: 0\n"
     ]
    }
   ],
   "source": [
    "# Write the probabilistic model to estimate the shape and rate parameters.\n",
    "def gamma_model(data):\n",
    "    alpha = numpyro.sample(\"alpha\", dist.Exponential(1.0))\n",
    "    beta = numpyro.sample(\"beta\", dist.Exponential(1.0))\n",
    "    g = numpyro.sample(\"g\", dist.Gamma(alpha, beta), obs=data)\n",
    "\n",
    "mcmc = MCMC(NUTS(model=gamma_model), num_warmup=1000, num_samples=1000)\n",
    "mcmc.run(random.PRNGKey(0), data=s)\n",
    "mcmc.print_summary()\n",
    "#                mean       std    median      5.0%     95.0%     n_eff     r_hat\n",
    "#     alpha      2.18      0.55      2.14      1.23      3.00    283.12      1.00\n",
    "#      beta      0.59      0.16      0.58      0.30      0.83    279.37      1.00"
   ],
   "metadata": {
    "collapsed": false
   }
  },
  {
   "cell_type": "code",
   "execution_count": null,
   "outputs": [],
   "source": [],
   "metadata": {
    "collapsed": false
   }
  }
 ],
 "metadata": {
  "kernelspec": {
   "display_name": "Python 3",
   "language": "python",
   "name": "python3"
  },
  "language_info": {
   "codemirror_mode": {
    "name": "ipython",
    "version": 2
   },
   "file_extension": ".py",
   "mimetype": "text/x-python",
   "name": "python",
   "nbconvert_exporter": "python",
   "pygments_lexer": "ipython2",
   "version": "2.7.6"
  }
 },
 "nbformat": 4,
 "nbformat_minor": 0
}
