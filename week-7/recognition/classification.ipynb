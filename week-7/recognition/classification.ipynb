{
 "cells": [
  {
   "cell_type": "code",
   "execution_count": 3,
   "metadata": {
    "collapsed": true
   },
   "outputs": [],
   "source": [
    "import numpy as np\n",
    "\n",
    "class KnnClassifier:\n",
    "    def __init__(self, labels, samples):\n",
    "        self.labels = labels\n",
    "        self.samples = samples\n",
    "\n",
    "    def classify(self, point, k=3):\n",
    "        dist = np.array([np.linalg.norm(point - s) for s in self.samples])\n",
    "\n",
    "        ndx = dist.argsort()\n",
    "        votes = {}\n",
    "        for i in range(k):\n",
    "            label = self.labels[ndx[i]]\n",
    "            votes.setdefault(label, 0)\n",
    "            votes[label] += 1\n",
    "        return max(votes)"
   ]
  },
  {
   "cell_type": "code",
   "execution_count": 4,
   "metadata": {
    "collapsed": false
   },
   "outputs": [
    {
     "data": {
      "image/png": "[encoded data removed]",
      "text/plain": [
       "<Figure size 640x480 with 2 Axes>"
      ]
     },
     "metadata": {},
     "output_type": "display_data"
    }
   ],
   "source": [
    "import matplotlib.pyplot as plt\n",
    "from skimage.io import imread\n",
    "from skimage.color import rgb2hsv\n",
    "\n",
    "\n",
    "im_circle = imread(\"data/circle/train/circle_0.png\")\n",
    "hsv_circle = rgb2hsv(im_circle)\n",
    "hue_circle = hsv_circle[:,:,0].ravel()\n",
    "\n",
    "im_cross = imread(\"data/cross/train/cross_0.png\")\n",
    "hsv_cross = rgb2hsv(im_cross)\n",
    "hue_cross = hsv_cross[:,:,0].ravel()\n",
    "\n",
    "fig, axs = plt.subplots(1, 2)\n",
    "\n",
    "axs[0].hist(hue_circle, 64)\n",
    "axs[0].set_title(\"Circle\")\n",
    "axs[0].set_yticks([])\n",
    "\n",
    "axs[1].hist(hue_cross, 64)\n",
    "axs[1].set_title(\"Cross\")\n",
    "axs[1].set_yticks([])\n",
    "\n",
    "plt.tight_layout()\n",
    "plt.show()"
   ]
  },
  {
   "cell_type": "code",
   "execution_count": 5,
   "metadata": {
    "collapsed": false
   },
   "outputs": [],
   "source": [
    "import glob\n",
    "\n",
    "def color_feature_extraction(im, dim=64):\n",
    "    hsv = rgb2hsv(im)\n",
    "    hue = hsv[:,:,0].ravel()\n",
    "    hue_hist, _ = np.histogram(hue, dim)\n",
    "    hue_hist = hue_hist / np.max(hue_hist)\n",
    "    return hue_hist\n",
    "\n",
    "\n",
    "filenames = glob.glob(\"./data/cross/train/*.png\")\n",
    "cross_features = []\n",
    "for filename in filenames:\n",
    "    im = imread(filename)\n",
    "    f = color_feature_extraction(im)\n",
    "    cross_features.append(f)\n",
    "\n",
    "filenames = glob.glob(\"./data/circle/train/*.png\")\n",
    "circle_features = []\n",
    "for filename in filenames:\n",
    "    im = imread(filename)\n",
    "    f = color_feature_extraction(im)\n",
    "    circle_features.append(f)\n",
    "\n",
    "labels = np.hstack([np.repeat(\"cross\", 100), np.repeat(\"circle\", 100)])\n",
    "samples = np.vstack([np.array(cross_features), np.array(circle_features)])"
   ]
  },
  {
   "cell_type": "code",
   "execution_count": 6,
   "metadata": {
    "collapsed": false
   },
   "outputs": [],
   "source": [
    "knn = KnnClassifier(labels, samples)"
   ]
  },
  {
   "cell_type": "code",
   "execution_count": 7,
   "metadata": {
    "collapsed": false
   },
   "outputs": [],
   "source": [
    "filenames = glob.glob(\"./data/cross/validation/*.png\")\n",
    "cross_validation_features = []\n",
    "for filename in filenames:\n",
    "    im = imread(filename)\n",
    "    f = color_feature_extraction(im)\n",
    "    cross_validation_features.append(f)\n",
    "\n",
    "filenames = glob.glob(\"./data/circle/validation/*.png\")\n",
    "circle_validation_features = []\n",
    "for filename in filenames:\n",
    "    im = imread(filename)\n",
    "    f = color_feature_extraction(im)\n",
    "    circle_validation_features.append(f)"
   ]
  },
  {
   "cell_type": "code",
   "execution_count": 10,
   "metadata": {
    "collapsed": false
   },
   "outputs": [
    {
     "name": "stdout",
     "output_type": "stream",
     "text": [
      "Prediction: circle (Correct label: circle)\n",
      "Prediction: cross (Correct label: cross)\n"
     ]
    }
   ],
   "source": [
    "pred = knn.classify(circle_validation_features[0])\n",
    "print(f\"Prediction: {pred} (Correct label: circle)\")\n",
    "# Prediction: circle\n",
    "\n",
    "pred = knn.classify(cross_validation_features[0])\n",
    "print(f\"Prediction: {pred} (Correct label: cross)\")\n",
    "# Prediction: cross\n"
   ]
  },
  {
   "cell_type": "code",
   "execution_count": 9,
   "metadata": {
    "collapsed": false
   },
   "outputs": [],
   "source": [
    "circle_result = [1 if knn.classify(f) == \"circle\" else 0 for f in circle_validation_features]\n",
    "cross_result = [1 if knn.classify(f) == \"cross\" else 0 for f in cross_validation_features]\n"
   ]
  },
  {
   "cell_type": "code",
   "execution_count": null,
   "metadata": {
    "collapsed": false
   },
   "outputs": [],
   "source": []
  }
 ],
 "metadata": {
  "kernelspec": {
   "display_name": "Python 3",
   "language": "python",
   "name": "python3"
  },
  "language_info": {
   "codemirror_mode": {
    "name": "ipython",
    "version": 2
   },
   "file_extension": ".py",
   "mimetype": "text/x-python",
   "name": "python",
   "nbconvert_exporter": "python",
   "pygments_lexer": "ipython2",
   "version": "3.7.9"
  },
  "vscode": {
   "interpreter": {
    "hash": "ec19a05e9999fabf63230b5fe1a7b3daceaf1309d81fcafce86e3c39270f8a29"
   }
  }
 },
 "nbformat": 4,
 "nbformat_minor": 0
}
